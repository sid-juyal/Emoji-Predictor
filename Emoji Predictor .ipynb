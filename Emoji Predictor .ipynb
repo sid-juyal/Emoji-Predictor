{
 "cells": [
  {
   "cell_type": "code",
   "execution_count": 1,
   "id": "outside-manhattan",
   "metadata": {},
   "outputs": [],
   "source": [
    "import numpy as np\n",
    "import pandas as pd"
   ]
  },
  {
   "cell_type": "code",
   "execution_count": 3,
   "id": "existing-jacksonville",
   "metadata": {},
   "outputs": [],
   "source": [
    "train = pd.read_csv('train_emoji.csv',header=None)\n",
    "test = pd.read_csv('test_emoji.csv',header=None)"
   ]
  },
  {
   "cell_type": "code",
   "execution_count": 4,
   "id": "extreme-america",
   "metadata": {},
   "outputs": [
    {
     "data": {
      "text/html": [
       "<div>\n",
       "<style scoped>\n",
       "    .dataframe tbody tr th:only-of-type {\n",
       "        vertical-align: middle;\n",
       "    }\n",
       "\n",
       "    .dataframe tbody tr th {\n",
       "        vertical-align: top;\n",
       "    }\n",
       "\n",
       "    .dataframe thead th {\n",
       "        text-align: right;\n",
       "    }\n",
       "</style>\n",
       "<table border=\"1\" class=\"dataframe\">\n",
       "  <thead>\n",
       "    <tr style=\"text-align: right;\">\n",
       "      <th></th>\n",
       "      <th>0</th>\n",
       "      <th>1</th>\n",
       "      <th>2</th>\n",
       "      <th>3</th>\n",
       "    </tr>\n",
       "  </thead>\n",
       "  <tbody>\n",
       "    <tr>\n",
       "      <th>0</th>\n",
       "      <td>never talk to me again</td>\n",
       "      <td>3</td>\n",
       "      <td>NaN</td>\n",
       "      <td>NaN</td>\n",
       "    </tr>\n",
       "    <tr>\n",
       "      <th>1</th>\n",
       "      <td>I am proud of your achievements</td>\n",
       "      <td>2</td>\n",
       "      <td>NaN</td>\n",
       "      <td>NaN</td>\n",
       "    </tr>\n",
       "    <tr>\n",
       "      <th>2</th>\n",
       "      <td>It is the worst day in my life</td>\n",
       "      <td>3</td>\n",
       "      <td>NaN</td>\n",
       "      <td>NaN</td>\n",
       "    </tr>\n",
       "    <tr>\n",
       "      <th>3</th>\n",
       "      <td>Miss you so much</td>\n",
       "      <td>0</td>\n",
       "      <td>NaN</td>\n",
       "      <td>[0]</td>\n",
       "    </tr>\n",
       "    <tr>\n",
       "      <th>4</th>\n",
       "      <td>food is life</td>\n",
       "      <td>4</td>\n",
       "      <td>NaN</td>\n",
       "      <td>NaN</td>\n",
       "    </tr>\n",
       "  </tbody>\n",
       "</table>\n",
       "</div>"
      ],
      "text/plain": [
       "                                 0  1   2     3\n",
       "0           never talk to me again  3 NaN   NaN\n",
       "1  I am proud of your achievements  2 NaN   NaN\n",
       "2   It is the worst day in my life  3 NaN   NaN\n",
       "3                 Miss you so much  0 NaN   [0]\n",
       "4                     food is life  4 NaN   NaN"
      ]
     },
     "execution_count": 4,
     "metadata": {},
     "output_type": "execute_result"
    }
   ],
   "source": [
    "train.head()"
   ]
  },
  {
   "cell_type": "code",
   "execution_count": 5,
   "id": "instructional-charge",
   "metadata": {},
   "outputs": [],
   "source": [
    "import emoji as emoji"
   ]
  },
  {
   "cell_type": "code",
   "execution_count": 6,
   "id": "solid-evans",
   "metadata": {},
   "outputs": [],
   "source": [
    "emoji_dictionary = {\"0\": \"\\u2764\\uFE0F\",    # :heart: prints a black instead of red heart depending on the font\n",
    "                    \"1\": \":baseball:\",\n",
    "                    \"2\": \":beaming_face_with_smiling_eyes:\",\n",
    "                    \"3\": \":downcast_face_with_sweat:\",\n",
    "                    \"4\": \":fork_and_knife:\",\n",
    "                   }"
   ]
  },
  {
   "cell_type": "code",
   "execution_count": 7,
   "id": "macro-proposition",
   "metadata": {},
   "outputs": [
    {
     "data": {
      "text/plain": [
       "'🍴'"
      ]
     },
     "execution_count": 7,
     "metadata": {},
     "output_type": "execute_result"
    }
   ],
   "source": [
    "emoji.emojize(\":fork_and_knife:\")"
   ]
  },
  {
   "cell_type": "code",
   "execution_count": 8,
   "id": "temporal-thumb",
   "metadata": {},
   "outputs": [
    {
     "name": "stdout",
     "output_type": "stream",
     "text": [
      "❤️\n",
      "⚾\n",
      "😁\n",
      "😓\n",
      "🍴\n"
     ]
    }
   ],
   "source": [
    "for e in emoji_dictionary.values():\n",
    "    print(emoji.emojize(e))"
   ]
  },
  {
   "cell_type": "code",
   "execution_count": 9,
   "id": "adaptive-functionality",
   "metadata": {},
   "outputs": [
    {
     "name": "stdout",
     "output_type": "stream",
     "text": [
      "never talk to me again 😓\n",
      "I am proud of your achievements 😁\n",
      "It is the worst day in my life 😓\n",
      "Miss you so much ❤️\n",
      "food is life 🍴\n",
      "I love you mum ❤️\n",
      "Stop saying bullshit 😓\n",
      "congratulations on your acceptance 😁\n",
      "The assignment is too long  😓\n",
      "I want to go play ⚾\n"
     ]
    }
   ],
   "source": [
    "data = train.values\n",
    "for i in range(10):\n",
    "    print(data[i][0],emoji.emojize(emoji_dictionary[str(data[i][1])]))"
   ]
  },
  {
   "cell_type": "code",
   "execution_count": 11,
   "id": "cutting-james",
   "metadata": {},
   "outputs": [],
   "source": [
    "from tensorflow.keras.utils import to_categorical"
   ]
  },
  {
   "cell_type": "code",
   "execution_count": 12,
   "id": "recent-studio",
   "metadata": {},
   "outputs": [
    {
     "name": "stdout",
     "output_type": "stream",
     "text": [
      "(132,)\n",
      "(56,)\n",
      "(132, 5)\n",
      "(56, 5)\n"
     ]
    }
   ],
   "source": [
    "XT = train[0]\n",
    "Xt = test[0]\n",
    "\n",
    "YT = to_categorical(train[1])\n",
    "Yt = to_categorical(test[1])\n",
    "\n",
    "\n",
    "print(XT.shape)\n",
    "print(Xt.shape)\n",
    "print(YT.shape)\n",
    "print(Yt.shape)"
   ]
  },
  {
   "cell_type": "code",
   "execution_count": 13,
   "id": "running-complement",
   "metadata": {},
   "outputs": [],
   "source": [
    "embeddings = {}\n",
    "with open('glove.6B.50d.txt',encoding='utf-8') as f:\n",
    "    for line in f:\n",
    "        values = line.split()\n",
    "        word = values[0]\n",
    "        coeffs = np.asarray(values[1:],dtype='float32')\n",
    "        \n",
    "        #print(word)\n",
    "        #print(coeffs)\n",
    "        embeddings[word] = coeffs"
   ]
  },
  {
   "cell_type": "code",
   "execution_count": 14,
   "id": "prepared-corporation",
   "metadata": {},
   "outputs": [],
   "source": [
    "def getOutputEmbeddings(X):\n",
    "    \n",
    "    embedding_matrix_output = np.zeros((X.shape[0],10,50))\n",
    "    for ix in range(X.shape[0]):\n",
    "        X[ix] = X[ix].split()\n",
    "        for jx in range(len(X[ix])):\n",
    "            embedding_matrix_output[ix][jx] = embeddings[X[ix][jx].lower()]\n",
    "            \n",
    "    return embedding_matrix_output"
   ]
  },
  {
   "cell_type": "code",
   "execution_count": 15,
   "id": "veterinary-classroom",
   "metadata": {},
   "outputs": [
    {
     "name": "stderr",
     "output_type": "stream",
     "text": [
      "<ipython-input-14-73145de5bfac>:5: SettingWithCopyWarning: \n",
      "A value is trying to be set on a copy of a slice from a DataFrame\n",
      "\n",
      "See the caveats in the documentation: https://pandas.pydata.org/pandas-docs/stable/user_guide/indexing.html#returning-a-view-versus-a-copy\n",
      "  X[ix] = X[ix].split()\n"
     ]
    }
   ],
   "source": [
    "emb_XT = getOutputEmbeddings(XT)\n",
    "emb_Xt = getOutputEmbeddings(Xt)"
   ]
  },
  {
   "cell_type": "code",
   "execution_count": 16,
   "id": "spoken-maple",
   "metadata": {},
   "outputs": [
    {
     "name": "stdout",
     "output_type": "stream",
     "text": [
      "(132, 10, 50)\n",
      "(56, 10, 50)\n"
     ]
    }
   ],
   "source": [
    "print(emb_XT.shape)\n",
    "print(emb_Xt.shape)"
   ]
  },
  {
   "cell_type": "code",
   "execution_count": 17,
   "id": "ultimate-gabriel",
   "metadata": {},
   "outputs": [],
   "source": [
    "from keras.layers import *\n",
    "from keras.models import Sequential"
   ]
  },
  {
   "cell_type": "code",
   "execution_count": 18,
   "id": "recognized-philippines",
   "metadata": {},
   "outputs": [
    {
     "name": "stdout",
     "output_type": "stream",
     "text": [
      "Model: \"sequential\"\n",
      "_________________________________________________________________\n",
      " Layer (type)                Output Shape              Param #   \n",
      "=================================================================\n",
      " lstm (LSTM)                 (None, 10, 64)            29440     \n",
      "                                                                 \n",
      " dropout (Dropout)           (None, 10, 64)            0         \n",
      "                                                                 \n",
      " lstm_1 (LSTM)               (None, 64)                33024     \n",
      "                                                                 \n",
      " dropout_1 (Dropout)         (None, 64)                0         \n",
      "                                                                 \n",
      " dense (Dense)               (None, 5)                 325       \n",
      "                                                                 \n",
      " activation (Activation)     (None, 5)                 0         \n",
      "                                                                 \n",
      "=================================================================\n",
      "Total params: 62,789\n",
      "Trainable params: 62,789\n",
      "Non-trainable params: 0\n",
      "_________________________________________________________________\n"
     ]
    }
   ],
   "source": [
    "model = Sequential()\n",
    "model.add(LSTM(64,input_shape=(10,50),return_sequences=True))\n",
    "model.add(Dropout(0.4))\n",
    "model.add(LSTM(64,input_shape=(10,50)))\n",
    "model.add(Dropout(0.3))\n",
    "model.add(Dense(5))\n",
    "model.add(Activation('softmax'))\n",
    "model.summary()"
   ]
  },
  {
   "cell_type": "code",
   "execution_count": 19,
   "id": "unlike-subdivision",
   "metadata": {},
   "outputs": [
    {
     "name": "stdout",
     "output_type": "stream",
     "text": [
      "Epoch 1/40\n",
      "4/4 [==============================] - 5s 389ms/step - loss: 1.5937 - acc: 0.2627 - val_loss: 1.6058 - val_acc: 0.2857\n",
      "Epoch 2/40\n",
      "4/4 [==============================] - 0s 19ms/step - loss: 1.5304 - acc: 0.2966 - val_loss: 1.6106 - val_acc: 0.2857\n",
      "Epoch 3/40\n",
      "4/4 [==============================] - 0s 14ms/step - loss: 1.5034 - acc: 0.3644 - val_loss: 1.6225 - val_acc: 0.3571\n",
      "Epoch 4/40\n",
      "4/4 [==============================] - 0s 27ms/step - loss: 1.4708 - acc: 0.3220 - val_loss: 1.6256 - val_acc: 0.0714\n",
      "Epoch 5/40\n",
      "4/4 [==============================] - 0s 29ms/step - loss: 1.4119 - acc: 0.3814 - val_loss: 1.5903 - val_acc: 0.2857\n",
      "Epoch 6/40\n",
      "4/4 [==============================] - 0s 25ms/step - loss: 1.3854 - acc: 0.4407 - val_loss: 1.5370 - val_acc: 0.2857\n",
      "Epoch 7/40\n",
      "4/4 [==============================] - 0s 27ms/step - loss: 1.3243 - acc: 0.5085 - val_loss: 1.4561 - val_acc: 0.5000\n",
      "Epoch 8/40\n",
      "4/4 [==============================] - 0s 16ms/step - loss: 1.2389 - acc: 0.5000 - val_loss: 1.3766 - val_acc: 0.5714\n",
      "Epoch 9/40\n",
      "4/4 [==============================] - 0s 27ms/step - loss: 1.1452 - acc: 0.6610 - val_loss: 1.3416 - val_acc: 0.4286\n",
      "Epoch 10/40\n",
      "4/4 [==============================] - 0s 26ms/step - loss: 1.0671 - acc: 0.6525 - val_loss: 1.3132 - val_acc: 0.5000\n",
      "Epoch 11/40\n",
      "4/4 [==============================] - 0s 24ms/step - loss: 0.9211 - acc: 0.7288 - val_loss: 1.1772 - val_acc: 0.6429\n",
      "Epoch 12/40\n",
      "4/4 [==============================] - 0s 20ms/step - loss: 0.8172 - acc: 0.7034 - val_loss: 1.3199 - val_acc: 0.5714\n",
      "Epoch 13/40\n",
      "4/4 [==============================] - 0s 24ms/step - loss: 0.7745 - acc: 0.7712 - val_loss: 1.1275 - val_acc: 0.6429\n",
      "Epoch 14/40\n",
      "4/4 [==============================] - 0s 22ms/step - loss: 0.6385 - acc: 0.8136 - val_loss: 1.0910 - val_acc: 0.5714\n",
      "Epoch 15/40\n",
      "4/4 [==============================] - 0s 23ms/step - loss: 0.5087 - acc: 0.8814 - val_loss: 1.3486 - val_acc: 0.5714\n",
      "Epoch 16/40\n",
      "4/4 [==============================] - 0s 27ms/step - loss: 0.4083 - acc: 0.8898 - val_loss: 1.0583 - val_acc: 0.6429\n",
      "Epoch 17/40\n",
      "4/4 [==============================] - 0s 22ms/step - loss: 0.4573 - acc: 0.8644 - val_loss: 1.0877 - val_acc: 0.7143\n",
      "Epoch 18/40\n",
      "4/4 [==============================] - 0s 21ms/step - loss: 0.3513 - acc: 0.8898 - val_loss: 1.2487 - val_acc: 0.6429\n",
      "Epoch 19/40\n",
      "4/4 [==============================] - 0s 24ms/step - loss: 0.3011 - acc: 0.8983 - val_loss: 1.1333 - val_acc: 0.6429\n",
      "Epoch 20/40\n",
      "4/4 [==============================] - 0s 18ms/step - loss: 0.2662 - acc: 0.9237 - val_loss: 1.2349 - val_acc: 0.7143\n",
      "Epoch 21/40\n",
      "4/4 [==============================] - 0s 27ms/step - loss: 0.2649 - acc: 0.9153 - val_loss: 1.1327 - val_acc: 0.6429\n",
      "Epoch 22/40\n",
      "4/4 [==============================] - 0s 27ms/step - loss: 0.2278 - acc: 0.9322 - val_loss: 1.0320 - val_acc: 0.7143\n",
      "Epoch 23/40\n",
      "4/4 [==============================] - 0s 23ms/step - loss: 0.1792 - acc: 0.9492 - val_loss: 1.0895 - val_acc: 0.6429\n",
      "Epoch 24/40\n",
      "4/4 [==============================] - 0s 22ms/step - loss: 0.2030 - acc: 0.9322 - val_loss: 1.0398 - val_acc: 0.7143\n",
      "Epoch 25/40\n",
      "4/4 [==============================] - 0s 20ms/step - loss: 0.1407 - acc: 0.9576 - val_loss: 1.1527 - val_acc: 0.7143\n",
      "Epoch 26/40\n",
      "4/4 [==============================] - 0s 16ms/step - loss: 0.1339 - acc: 0.9576 - val_loss: 1.4057 - val_acc: 0.7143\n",
      "Epoch 27/40\n",
      "4/4 [==============================] - 0s 19ms/step - loss: 0.1549 - acc: 0.9322 - val_loss: 1.4225 - val_acc: 0.7143\n",
      "Epoch 28/40\n",
      "4/4 [==============================] - 0s 19ms/step - loss: 0.1529 - acc: 0.9492 - val_loss: 1.0641 - val_acc: 0.7857\n",
      "Epoch 29/40\n",
      "4/4 [==============================] - 0s 28ms/step - loss: 0.1366 - acc: 0.9576 - val_loss: 1.4590 - val_acc: 0.6429\n",
      "Epoch 30/40\n",
      "4/4 [==============================] - 0s 28ms/step - loss: 0.1028 - acc: 0.9746 - val_loss: 1.2062 - val_acc: 0.7857\n",
      "Epoch 31/40\n",
      "4/4 [==============================] - 0s 29ms/step - loss: 0.0748 - acc: 0.9831 - val_loss: 1.1893 - val_acc: 0.7857\n",
      "Epoch 32/40\n",
      "4/4 [==============================] - 0s 25ms/step - loss: 0.0571 - acc: 1.0000 - val_loss: 1.3362 - val_acc: 0.7143\n",
      "Epoch 33/40\n",
      "4/4 [==============================] - 0s 25ms/step - loss: 0.0632 - acc: 0.9915 - val_loss: 1.2364 - val_acc: 0.7143\n",
      "Epoch 34/40\n",
      "4/4 [==============================] - 0s 27ms/step - loss: 0.1102 - acc: 0.9746 - val_loss: 1.3429 - val_acc: 0.7143\n",
      "Epoch 35/40\n",
      "4/4 [==============================] - 0s 26ms/step - loss: 0.1172 - acc: 0.9661 - val_loss: 1.5409 - val_acc: 0.7143\n",
      "Epoch 36/40\n",
      "4/4 [==============================] - 0s 17ms/step - loss: 0.0462 - acc: 0.9915 - val_loss: 1.2580 - val_acc: 0.7143\n",
      "Epoch 37/40\n",
      "4/4 [==============================] - 0s 26ms/step - loss: 0.0667 - acc: 0.9915 - val_loss: 1.2939 - val_acc: 0.6429\n",
      "Epoch 38/40\n",
      "4/4 [==============================] - 0s 19ms/step - loss: 0.0353 - acc: 1.0000 - val_loss: 1.4814 - val_acc: 0.7143\n",
      "Epoch 39/40\n",
      "4/4 [==============================] - 0s 19ms/step - loss: 0.0442 - acc: 0.9831 - val_loss: 1.2972 - val_acc: 0.7143\n",
      "Epoch 40/40\n",
      "4/4 [==============================] - 0s 21ms/step - loss: 0.0287 - acc: 1.0000 - val_loss: 1.2042 - val_acc: 0.7143\n"
     ]
    },
    {
     "data": {
      "text/plain": [
       "<keras.callbacks.History at 0x293cd232400>"
      ]
     },
     "execution_count": 19,
     "metadata": {},
     "output_type": "execute_result"
    }
   ],
   "source": [
    "model.compile(optimizer='adam',loss='categorical_crossentropy',metrics=['acc'])\n",
    "model.fit(emb_XT,YT,batch_size=32,epochs=40,shuffle=True,validation_split=0.1)"
   ]
  },
  {
   "cell_type": "code",
   "execution_count": 20,
   "id": "comfortable-renaissance",
   "metadata": {},
   "outputs": [
    {
     "name": "stdout",
     "output_type": "stream",
     "text": [
      "2/2 [==============================] - 0s 7ms/step - loss: 1.8551 - acc: 0.6250\n"
     ]
    },
    {
     "data": {
      "text/plain": [
       "[1.8551084995269775, 0.625]"
      ]
     },
     "execution_count": 20,
     "metadata": {},
     "output_type": "execute_result"
    }
   ],
   "source": [
    "model.evaluate(emb_Xt,Yt)"
   ]
  },
  {
   "cell_type": "code",
   "execution_count": 24,
   "id": "further-fourth",
   "metadata": {},
   "outputs": [],
   "source": [
    "#pred = model.predict(emb_Xt)\n",
    "predict_x=model.predict(emb_Xt) \n",
    "pred=np.argmax(predict_x,axis=1)"
   ]
  },
  {
   "cell_type": "code",
   "execution_count": 25,
   "id": "military-pledge",
   "metadata": {},
   "outputs": [
    {
     "name": "stdout",
     "output_type": "stream",
     "text": [
      "I want to eat\n",
      "🍴\n",
      "🍴\n",
      "he did not answer\n",
      "😓\n",
      "😓\n",
      "he got a raise\n",
      "😁\n",
      "😁\n",
      "she got me a present\n",
      "❤️\n",
      "😓\n",
      "ha ha ha it was so funny\n",
      "😁\n",
      "😁\n",
      "he is a good friend\n",
      "❤️\n",
      "😁\n",
      "I am upset\n",
      "❤️\n",
      "😓\n",
      "We had such a lovely dinner tonight\n",
      "❤️\n",
      "😁\n",
      "where is the food\n",
      "🍴\n",
      "🍴\n",
      "Stop making this joke ha ha ha\n",
      "😁\n",
      "😁\n",
      "where is the ball\n",
      "⚾\n",
      "⚾\n",
      "work is hard\n",
      "😓\n",
      "😁\n",
      "This girl is messing with me\n",
      "😓\n",
      "❤️\n",
      "are you serious ha ha\n",
      "😁\n",
      "😓\n",
      "Let us go play baseball\n",
      "⚾\n",
      "⚾\n",
      "This stupid grader is not working\n",
      "😓\n",
      "😓\n",
      "work is horrible\n",
      "😓\n",
      "😓\n",
      "Congratulation for having a baby\n",
      "😁\n",
      "😁\n",
      "stop messing around\n",
      "😓\n",
      "😓\n",
      "any suggestions for dinner\n",
      "🍴\n",
      "😁\n",
      "I love taking breaks\n",
      "❤️\n",
      "❤️\n",
      "you brighten my day\n",
      "😁\n",
      "❤️\n",
      "I boiled rice\n",
      "🍴\n",
      "🍴\n",
      "she is a bully\n",
      "😓\n",
      "😓\n",
      "Why are you feeling bad\n",
      "😓\n",
      "😓\n",
      "I am upset\n",
      "😓\n",
      "😓\n",
      "I worked during my birthday\n",
      "😓\n",
      "😁\n",
      "My grandmother is the love of my life\n",
      "❤️\n",
      "❤️\n",
      "enjoy your break\n",
      "😁\n",
      "❤️\n",
      "valentine day is near\n",
      "❤️\n",
      "😁\n"
     ]
    }
   ],
   "source": [
    "for i in range(30):\n",
    "    print(' '.join(Xt[i]))\n",
    "    print(emoji.emojize(emoji_dictionary[str(np.argmax(Yt[i]))]))\n",
    "    print(emoji.emojize(emoji_dictionary[str(pred[i])]))"
   ]
  },
  {
   "cell_type": "code",
   "execution_count": null,
   "id": "settled-soundtrack",
   "metadata": {},
   "outputs": [],
   "source": []
  }
 ],
 "metadata": {
  "kernelspec": {
   "display_name": "Python 3",
   "language": "python",
   "name": "python3"
  },
  "language_info": {
   "codemirror_mode": {
    "name": "ipython",
    "version": 3
   },
   "file_extension": ".py",
   "mimetype": "text/x-python",
   "name": "python",
   "nbconvert_exporter": "python",
   "pygments_lexer": "ipython3",
   "version": "3.8.3"
  }
 },
 "nbformat": 4,
 "nbformat_minor": 5
}
